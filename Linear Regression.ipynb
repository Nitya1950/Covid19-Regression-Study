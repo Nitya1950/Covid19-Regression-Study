{
 "cells": [
  {
   "cell_type": "code",
   "execution_count": 1,
   "id": "3de07cf5",
   "metadata": {},
   "outputs": [],
   "source": [
    "import pandas as pd\n",
    "import numpy as np\n",
    "import warnings\n",
    "warnings.filterwarnings('ignore')\n",
    "import matplotlib.pyplot as plt\n",
    "from sklearn.linear_model import LinearRegression as LR\n",
    "from sklearn.metrics import mean_squared_error as mse\n",
    "from sklearn.metrics import mean_absolute_error as mae\n",
    "from sklearn.metrics import r2_score\n"
   ]
  },
  {
   "cell_type": "code",
   "execution_count": 2,
   "id": "29941c1f",
   "metadata": {},
   "outputs": [],
   "source": [
    "data = pd.read_csv('train_bm.csv')"
   ]
  },
  {
   "cell_type": "code",
   "execution_count": 3,
   "id": "356301ad",
   "metadata": {},
   "outputs": [
    {
     "data": {
      "text/plain": [
       "(8523, 12)"
      ]
     },
     "execution_count": 3,
     "metadata": {},
     "output_type": "execute_result"
    }
   ],
   "source": [
    "data.shape"
   ]
  },
  {
   "cell_type": "code",
   "execution_count": 4,
   "id": "2e39c515",
   "metadata": {},
   "outputs": [
    {
     "data": {
      "text/html": [
       "<div>\n",
       "<style scoped>\n",
       "    .dataframe tbody tr th:only-of-type {\n",
       "        vertical-align: middle;\n",
       "    }\n",
       "\n",
       "    .dataframe tbody tr th {\n",
       "        vertical-align: top;\n",
       "    }\n",
       "\n",
       "    .dataframe thead th {\n",
       "        text-align: right;\n",
       "    }\n",
       "</style>\n",
       "<table border=\"1\" class=\"dataframe\">\n",
       "  <thead>\n",
       "    <tr style=\"text-align: right;\">\n",
       "      <th></th>\n",
       "      <th>Item_Identifier</th>\n",
       "      <th>Item_Weight</th>\n",
       "      <th>Item_Fat_Content</th>\n",
       "      <th>Item_Visibility</th>\n",
       "      <th>Item_Type</th>\n",
       "      <th>Item_MRP</th>\n",
       "      <th>Outlet_Identifier</th>\n",
       "      <th>Outlet_Establishment_Year</th>\n",
       "      <th>Outlet_Size</th>\n",
       "      <th>Outlet_Location_Type</th>\n",
       "      <th>Outlet_Type</th>\n",
       "      <th>Item_Outlet_Sales</th>\n",
       "    </tr>\n",
       "  </thead>\n",
       "  <tbody>\n",
       "    <tr>\n",
       "      <th>0</th>\n",
       "      <td>FDA15</td>\n",
       "      <td>9.30</td>\n",
       "      <td>Low Fat</td>\n",
       "      <td>0.016047</td>\n",
       "      <td>Dairy</td>\n",
       "      <td>249.8092</td>\n",
       "      <td>OUT049</td>\n",
       "      <td>1999</td>\n",
       "      <td>Medium</td>\n",
       "      <td>Tier 1</td>\n",
       "      <td>Supermarket Type1</td>\n",
       "      <td>3735.1380</td>\n",
       "    </tr>\n",
       "    <tr>\n",
       "      <th>1</th>\n",
       "      <td>DRC01</td>\n",
       "      <td>5.92</td>\n",
       "      <td>Regular</td>\n",
       "      <td>0.019278</td>\n",
       "      <td>Soft Drinks</td>\n",
       "      <td>48.2692</td>\n",
       "      <td>OUT018</td>\n",
       "      <td>2009</td>\n",
       "      <td>Medium</td>\n",
       "      <td>Tier 3</td>\n",
       "      <td>Supermarket Type2</td>\n",
       "      <td>443.4228</td>\n",
       "    </tr>\n",
       "    <tr>\n",
       "      <th>2</th>\n",
       "      <td>FDN15</td>\n",
       "      <td>17.50</td>\n",
       "      <td>Low Fat</td>\n",
       "      <td>0.016760</td>\n",
       "      <td>Meat</td>\n",
       "      <td>141.6180</td>\n",
       "      <td>OUT049</td>\n",
       "      <td>1999</td>\n",
       "      <td>Medium</td>\n",
       "      <td>Tier 1</td>\n",
       "      <td>Supermarket Type1</td>\n",
       "      <td>2097.2700</td>\n",
       "    </tr>\n",
       "    <tr>\n",
       "      <th>3</th>\n",
       "      <td>FDX07</td>\n",
       "      <td>19.20</td>\n",
       "      <td>Regular</td>\n",
       "      <td>0.000000</td>\n",
       "      <td>Fruits and Vegetables</td>\n",
       "      <td>182.0950</td>\n",
       "      <td>OUT010</td>\n",
       "      <td>1998</td>\n",
       "      <td>NaN</td>\n",
       "      <td>Tier 3</td>\n",
       "      <td>Grocery Store</td>\n",
       "      <td>732.3800</td>\n",
       "    </tr>\n",
       "    <tr>\n",
       "      <th>4</th>\n",
       "      <td>NCD19</td>\n",
       "      <td>8.93</td>\n",
       "      <td>Low Fat</td>\n",
       "      <td>0.000000</td>\n",
       "      <td>Household</td>\n",
       "      <td>53.8614</td>\n",
       "      <td>OUT013</td>\n",
       "      <td>1987</td>\n",
       "      <td>High</td>\n",
       "      <td>Tier 3</td>\n",
       "      <td>Supermarket Type1</td>\n",
       "      <td>994.7052</td>\n",
       "    </tr>\n",
       "  </tbody>\n",
       "</table>\n",
       "</div>"
      ],
      "text/plain": [
       "  Item_Identifier  Item_Weight Item_Fat_Content  Item_Visibility  \\\n",
       "0           FDA15         9.30          Low Fat         0.016047   \n",
       "1           DRC01         5.92          Regular         0.019278   \n",
       "2           FDN15        17.50          Low Fat         0.016760   \n",
       "3           FDX07        19.20          Regular         0.000000   \n",
       "4           NCD19         8.93          Low Fat         0.000000   \n",
       "\n",
       "               Item_Type  Item_MRP Outlet_Identifier  \\\n",
       "0                  Dairy  249.8092            OUT049   \n",
       "1            Soft Drinks   48.2692            OUT018   \n",
       "2                   Meat  141.6180            OUT049   \n",
       "3  Fruits and Vegetables  182.0950            OUT010   \n",
       "4              Household   53.8614            OUT013   \n",
       "\n",
       "   Outlet_Establishment_Year Outlet_Size Outlet_Location_Type  \\\n",
       "0                       1999      Medium               Tier 1   \n",
       "1                       2009      Medium               Tier 3   \n",
       "2                       1999      Medium               Tier 1   \n",
       "3                       1998         NaN               Tier 3   \n",
       "4                       1987        High               Tier 3   \n",
       "\n",
       "         Outlet_Type  Item_Outlet_Sales  \n",
       "0  Supermarket Type1          3735.1380  \n",
       "1  Supermarket Type2           443.4228  \n",
       "2  Supermarket Type1          2097.2700  \n",
       "3      Grocery Store           732.3800  \n",
       "4  Supermarket Type1           994.7052  "
      ]
     },
     "execution_count": 4,
     "metadata": {},
     "output_type": "execute_result"
    }
   ],
   "source": [
    "data.head()"
   ]
  },
  {
   "cell_type": "code",
   "execution_count": 5,
   "id": "2cf93c95",
   "metadata": {
    "scrolled": true
   },
   "outputs": [
    {
     "data": {
      "text/plain": [
       "Item_Identifier               object\n",
       "Item_Weight                  float64\n",
       "Item_Fat_Content              object\n",
       "Item_Visibility              float64\n",
       "Item_Type                     object\n",
       "Item_MRP                     float64\n",
       "Outlet_Identifier             object\n",
       "Outlet_Establishment_Year      int64\n",
       "Outlet_Size                   object\n",
       "Outlet_Location_Type          object\n",
       "Outlet_Type                   object\n",
       "Item_Outlet_Sales            float64\n",
       "dtype: object"
      ]
     },
     "execution_count": 5,
     "metadata": {},
     "output_type": "execute_result"
    }
   ],
   "source": [
    "data.dtypes"
   ]
  },
  {
   "cell_type": "code",
   "execution_count": 6,
   "id": "ed97e721",
   "metadata": {},
   "outputs": [
    {
     "data": {
      "text/plain": [
       "Item_Identifier                 0\n",
       "Item_Weight                  1463\n",
       "Item_Fat_Content                0\n",
       "Item_Visibility                 0\n",
       "Item_Type                       0\n",
       "Item_MRP                        0\n",
       "Outlet_Identifier               0\n",
       "Outlet_Establishment_Year       0\n",
       "Outlet_Size                  2410\n",
       "Outlet_Location_Type            0\n",
       "Outlet_Type                     0\n",
       "Item_Outlet_Sales               0\n",
       "dtype: int64"
      ]
     },
     "execution_count": 6,
     "metadata": {},
     "output_type": "execute_result"
    }
   ],
   "source": [
    "data.isnull().sum()"
   ]
  },
  {
   "cell_type": "code",
   "execution_count": 7,
   "id": "c62d5674",
   "metadata": {},
   "outputs": [],
   "source": [
    "data['Item_Weight'].fillna(data['Item_Weight'].median(),inplace = True)"
   ]
  },
  {
   "cell_type": "code",
   "execution_count": 8,
   "id": "463ed300",
   "metadata": {},
   "outputs": [],
   "source": [
    "data['Item_Type']=data['Item_Type'].astype('category')"
   ]
  },
  {
   "cell_type": "code",
   "execution_count": 9,
   "id": "9d77009b",
   "metadata": {},
   "outputs": [],
   "source": [
    "data['Outlet_Size']=data['Outlet_Size'].astype('category')"
   ]
  },
  {
   "cell_type": "code",
   "execution_count": 10,
   "id": "ece9565d",
   "metadata": {},
   "outputs": [],
   "source": [
    "data['Item_Fat_Content']=data['Item_Fat_Content'].astype('category')"
   ]
  },
  {
   "cell_type": "code",
   "execution_count": 11,
   "id": "edd2065a",
   "metadata": {},
   "outputs": [],
   "source": [
    "data['Outlet_Location_Type']=data['Outlet_Location_Type'].astype('category')"
   ]
  },
  {
   "cell_type": "code",
   "execution_count": 12,
   "id": "86f21129",
   "metadata": {},
   "outputs": [],
   "source": [
    "data['Outlet_Type']=data['Outlet_Type'].astype('category')"
   ]
  },
  {
   "cell_type": "code",
   "execution_count": 13,
   "id": "f2dd861d",
   "metadata": {},
   "outputs": [],
   "source": [
    "data['Outlet_Establishment_Year']=data['Outlet_Establishment_Year'].astype('category')"
   ]
  },
  {
   "cell_type": "code",
   "execution_count": 14,
   "id": "c444c855",
   "metadata": {},
   "outputs": [
    {
     "data": {
      "text/plain": [
       "(8523, 10)"
      ]
     },
     "execution_count": 14,
     "metadata": {},
     "output_type": "execute_result"
    }
   ],
   "source": [
    "data = data.drop(['Item_Identifier','Outlet_Identifier'],axis=1)\n",
    "data.shape"
   ]
  },
  {
   "cell_type": "code",
   "execution_count": 15,
   "id": "3e155e56",
   "metadata": {},
   "outputs": [],
   "source": [
    "data = pd.get_dummies(data)"
   ]
  },
  {
   "cell_type": "code",
   "execution_count": 16,
   "id": "1f94c18d",
   "metadata": {},
   "outputs": [
    {
     "data": {
      "text/plain": [
       "Item_Weight                        float64\n",
       "Item_Visibility                    float64\n",
       "Item_MRP                           float64\n",
       "Item_Outlet_Sales                  float64\n",
       "Item_Fat_Content_LF                  uint8\n",
       "Item_Fat_Content_Low Fat             uint8\n",
       "Item_Fat_Content_Regular             uint8\n",
       "Item_Fat_Content_low fat             uint8\n",
       "Item_Fat_Content_reg                 uint8\n",
       "Item_Type_Baking Goods               uint8\n",
       "Item_Type_Breads                     uint8\n",
       "Item_Type_Breakfast                  uint8\n",
       "Item_Type_Canned                     uint8\n",
       "Item_Type_Dairy                      uint8\n",
       "Item_Type_Frozen Foods               uint8\n",
       "Item_Type_Fruits and Vegetables      uint8\n",
       "Item_Type_Hard Drinks                uint8\n",
       "Item_Type_Health and Hygiene         uint8\n",
       "Item_Type_Household                  uint8\n",
       "Item_Type_Meat                       uint8\n",
       "Item_Type_Others                     uint8\n",
       "Item_Type_Seafood                    uint8\n",
       "Item_Type_Snack Foods                uint8\n",
       "Item_Type_Soft Drinks                uint8\n",
       "Item_Type_Starchy Foods              uint8\n",
       "Outlet_Establishment_Year_1985       uint8\n",
       "Outlet_Establishment_Year_1987       uint8\n",
       "Outlet_Establishment_Year_1997       uint8\n",
       "Outlet_Establishment_Year_1998       uint8\n",
       "Outlet_Establishment_Year_1999       uint8\n",
       "Outlet_Establishment_Year_2002       uint8\n",
       "Outlet_Establishment_Year_2004       uint8\n",
       "Outlet_Establishment_Year_2007       uint8\n",
       "Outlet_Establishment_Year_2009       uint8\n",
       "Outlet_Size_High                     uint8\n",
       "Outlet_Size_Medium                   uint8\n",
       "Outlet_Size_Small                    uint8\n",
       "Outlet_Location_Type_Tier 1          uint8\n",
       "Outlet_Location_Type_Tier 2          uint8\n",
       "Outlet_Location_Type_Tier 3          uint8\n",
       "Outlet_Type_Grocery Store            uint8\n",
       "Outlet_Type_Supermarket Type1        uint8\n",
       "Outlet_Type_Supermarket Type2        uint8\n",
       "Outlet_Type_Supermarket Type3        uint8\n",
       "dtype: object"
      ]
     },
     "execution_count": 16,
     "metadata": {},
     "output_type": "execute_result"
    }
   ],
   "source": [
    "data.dtypes"
   ]
  },
  {
   "cell_type": "code",
   "execution_count": 17,
   "id": "be23a347",
   "metadata": {},
   "outputs": [
    {
     "data": {
      "text/plain": [
       "((8523, 43), (8523,))"
      ]
     },
     "execution_count": 17,
     "metadata": {},
     "output_type": "execute_result"
    }
   ],
   "source": [
    "x=data.drop(['Item_Outlet_Sales'], axis=1)\n",
    "y=data['Item_Outlet_Sales']\n",
    "x.shape, y.shape"
   ]
  },
  {
   "cell_type": "code",
   "execution_count": 18,
   "id": "f44c1ac1",
   "metadata": {},
   "outputs": [],
   "source": [
    "#importing Train_test_split\n",
    "from sklearn.model_selection import train_test_split\n",
    "train_x,test_x,train_y,test_y = train_test_split(x,y, random_state = 56)"
   ]
  },
  {
   "cell_type": "code",
   "execution_count": 19,
   "id": "96a28de1",
   "metadata": {},
   "outputs": [],
   "source": [
    "#creating instance of linear regression\n",
    "lr = LR(normalize = True)"
   ]
  },
  {
   "cell_type": "code",
   "execution_count": 20,
   "id": "7b784d7f",
   "metadata": {},
   "outputs": [
    {
     "data": {
      "text/plain": [
       "LinearRegression(normalize=True)"
      ]
     },
     "execution_count": 20,
     "metadata": {},
     "output_type": "execute_result"
    }
   ],
   "source": [
    "#Fitting the model\n",
    "lr.fit(train_x, train_y)"
   ]
  },
  {
   "cell_type": "code",
   "execution_count": 21,
   "id": "f58743b1",
   "metadata": {},
   "outputs": [
    {
     "name": "stdout",
     "output_type": "stream",
     "text": [
      "Training Mean Error 1218365.217938362\n"
     ]
    }
   ],
   "source": [
    "#Predicting over the train set and calculating error\n",
    "train_predict = lr.predict(train_x)\n",
    "k = mse(train_predict, train_y)\n",
    "print('Training Mean Error', k)"
   ]
  },
  {
   "cell_type": "code",
   "execution_count": 22,
   "id": "2527a433",
   "metadata": {},
   "outputs": [
    {
     "name": "stdout",
     "output_type": "stream",
     "text": [
      "Test Mean Error 1431953.125994855\n"
     ]
    }
   ],
   "source": [
    "#Predicting over the test set and calculating error\n",
    "test_predict = lr.predict(test_x)\n",
    "k = mse(test_predict, test_y)\n",
    "print('Test Mean Error', k)"
   ]
  },
  {
   "cell_type": "code",
   "execution_count": 23,
   "id": "a6f460dc",
   "metadata": {},
   "outputs": [
    {
     "data": {
      "text/plain": [
       "array([ 1.84223880e-01, -3.85721051e+02,  1.54977670e+01,  1.96427091e+14,\n",
       "        1.96427091e+14,  1.96427091e+14,  1.96427091e+14,  1.96427091e+14,\n",
       "        1.22956275e+14,  1.22956275e+14,  1.22956275e+14,  1.22956275e+14,\n",
       "        1.22956275e+14,  1.22956275e+14,  1.22956275e+14,  1.22956275e+14,\n",
       "        1.22956275e+14,  1.22956275e+14,  1.22956275e+14,  1.22956275e+14,\n",
       "        1.22956275e+14,  1.22956275e+14,  1.22956275e+14,  1.22956275e+14,\n",
       "        8.09344040e+13,  1.55680002e+14, -2.42473258e+14,  5.08934693e+14,\n",
       "        1.69291315e+14,  6.26736775e+13, -5.76256848e+13,  6.26736775e+13,\n",
       "        1.29326625e+14,  2.98470291e+13, -2.91465210e+14,  1.20299362e+14,\n",
       "        7.30869579e+13, -1.11760615e+14, -2.34613969e+14, -5.31188649e+14,\n",
       "       -2.07780987e+14,  1.39884630e+14,  1.88276851e+14])"
      ]
     },
     "execution_count": 23,
     "metadata": {},
     "output_type": "execute_result"
    }
   ],
   "source": [
    "#Parameters of Linear Regression\n",
    "lr.coef_"
   ]
  },
  {
   "cell_type": "code",
   "execution_count": 24,
   "id": "3e58c9ee",
   "metadata": {},
   "outputs": [
    {
     "data": {
      "text/plain": [
       "Text(0.5, 1.0, 'Normalized Coefficient plot')"
      ]
     },
     "execution_count": 24,
     "metadata": {},
     "output_type": "execute_result"
    },
    {
     "data": {
      "image/png": "[encoded data removed]",
      "text/plain": [
       "<Figure size 960x720 with 1 Axes>"
      ]
     },
     "metadata": {},
     "output_type": "display_data"
    }
   ],
   "source": [
    "#Plotting the coefficients\n",
    "plt.figure(figsize=(8, 6), dpi=120, facecolor='w', edgecolor='b') \n",
    "x = range(len(train_x.columns)) \n",
    "y = lr.coef_ \n",
    "plt.bar( x, y ) \n",
    "plt.xlabel( \"Variables\") \n",
    "plt.ylabel('Coefficients') \n",
    "plt.title('Normalized Coefficient plot')"
   ]
  },
  {
   "cell_type": "code",
   "execution_count": 25,
   "id": "1d6e2edf",
   "metadata": {},
   "outputs": [
    {
     "data": {
      "text/plain": [
       "((8523, 43), (8523,))"
      ]
     },
     "execution_count": 25,
     "metadata": {},
     "output_type": "execute_result"
    }
   ],
   "source": [
    "#Creating a new subset of data\n",
    "x = data.drop(['Item_Outlet_Sales'], axis=1)\n",
    "y = data['Item_Outlet_Sales']\n",
    "x.shape, y.shape"
   ]
  },
  {
   "cell_type": "code",
   "execution_count": 26,
   "id": "b1bb28c5",
   "metadata": {},
   "outputs": [],
   "source": [
    "#Arranging coefficients with features\n",
    "Coefficients = pd.DataFrame({\n",
    "    'Variable' : x.columns,\n",
    "    'coefficient' : lr.coef_\n",
    "})"
   ]
  },
  {
   "cell_type": "code",
   "execution_count": 27,
   "id": "eefee467",
   "metadata": {},
   "outputs": [
    {
     "data": {
      "text/html": [
       "<div>\n",
       "<style scoped>\n",
       "    .dataframe tbody tr th:only-of-type {\n",
       "        vertical-align: middle;\n",
       "    }\n",
       "\n",
       "    .dataframe tbody tr th {\n",
       "        vertical-align: top;\n",
       "    }\n",
       "\n",
       "    .dataframe thead th {\n",
       "        text-align: right;\n",
       "    }\n",
       "</style>\n",
       "<table border=\"1\" class=\"dataframe\">\n",
       "  <thead>\n",
       "    <tr style=\"text-align: right;\">\n",
       "      <th></th>\n",
       "      <th>Variable</th>\n",
       "      <th>coefficient</th>\n",
       "    </tr>\n",
       "  </thead>\n",
       "  <tbody>\n",
       "    <tr>\n",
       "      <th>0</th>\n",
       "      <td>Item_Weight</td>\n",
       "      <td>1.842239e-01</td>\n",
       "    </tr>\n",
       "    <tr>\n",
       "      <th>1</th>\n",
       "      <td>Item_Visibility</td>\n",
       "      <td>-3.857211e+02</td>\n",
       "    </tr>\n",
       "    <tr>\n",
       "      <th>2</th>\n",
       "      <td>Item_MRP</td>\n",
       "      <td>1.549777e+01</td>\n",
       "    </tr>\n",
       "    <tr>\n",
       "      <th>3</th>\n",
       "      <td>Item_Fat_Content_LF</td>\n",
       "      <td>1.964271e+14</td>\n",
       "    </tr>\n",
       "    <tr>\n",
       "      <th>4</th>\n",
       "      <td>Item_Fat_Content_Low Fat</td>\n",
       "      <td>1.964271e+14</td>\n",
       "    </tr>\n",
       "    <tr>\n",
       "      <th>5</th>\n",
       "      <td>Item_Fat_Content_Regular</td>\n",
       "      <td>1.964271e+14</td>\n",
       "    </tr>\n",
       "    <tr>\n",
       "      <th>6</th>\n",
       "      <td>Item_Fat_Content_low fat</td>\n",
       "      <td>1.964271e+14</td>\n",
       "    </tr>\n",
       "    <tr>\n",
       "      <th>7</th>\n",
       "      <td>Item_Fat_Content_reg</td>\n",
       "      <td>1.964271e+14</td>\n",
       "    </tr>\n",
       "    <tr>\n",
       "      <th>8</th>\n",
       "      <td>Item_Type_Baking Goods</td>\n",
       "      <td>1.229563e+14</td>\n",
       "    </tr>\n",
       "    <tr>\n",
       "      <th>9</th>\n",
       "      <td>Item_Type_Breads</td>\n",
       "      <td>1.229563e+14</td>\n",
       "    </tr>\n",
       "    <tr>\n",
       "      <th>10</th>\n",
       "      <td>Item_Type_Breakfast</td>\n",
       "      <td>1.229563e+14</td>\n",
       "    </tr>\n",
       "    <tr>\n",
       "      <th>11</th>\n",
       "      <td>Item_Type_Canned</td>\n",
       "      <td>1.229563e+14</td>\n",
       "    </tr>\n",
       "    <tr>\n",
       "      <th>12</th>\n",
       "      <td>Item_Type_Dairy</td>\n",
       "      <td>1.229563e+14</td>\n",
       "    </tr>\n",
       "    <tr>\n",
       "      <th>13</th>\n",
       "      <td>Item_Type_Frozen Foods</td>\n",
       "      <td>1.229563e+14</td>\n",
       "    </tr>\n",
       "    <tr>\n",
       "      <th>14</th>\n",
       "      <td>Item_Type_Fruits and Vegetables</td>\n",
       "      <td>1.229563e+14</td>\n",
       "    </tr>\n",
       "    <tr>\n",
       "      <th>15</th>\n",
       "      <td>Item_Type_Hard Drinks</td>\n",
       "      <td>1.229563e+14</td>\n",
       "    </tr>\n",
       "    <tr>\n",
       "      <th>16</th>\n",
       "      <td>Item_Type_Health and Hygiene</td>\n",
       "      <td>1.229563e+14</td>\n",
       "    </tr>\n",
       "    <tr>\n",
       "      <th>17</th>\n",
       "      <td>Item_Type_Household</td>\n",
       "      <td>1.229563e+14</td>\n",
       "    </tr>\n",
       "    <tr>\n",
       "      <th>18</th>\n",
       "      <td>Item_Type_Meat</td>\n",
       "      <td>1.229563e+14</td>\n",
       "    </tr>\n",
       "    <tr>\n",
       "      <th>19</th>\n",
       "      <td>Item_Type_Others</td>\n",
       "      <td>1.229563e+14</td>\n",
       "    </tr>\n",
       "    <tr>\n",
       "      <th>20</th>\n",
       "      <td>Item_Type_Seafood</td>\n",
       "      <td>1.229563e+14</td>\n",
       "    </tr>\n",
       "    <tr>\n",
       "      <th>21</th>\n",
       "      <td>Item_Type_Snack Foods</td>\n",
       "      <td>1.229563e+14</td>\n",
       "    </tr>\n",
       "    <tr>\n",
       "      <th>22</th>\n",
       "      <td>Item_Type_Soft Drinks</td>\n",
       "      <td>1.229563e+14</td>\n",
       "    </tr>\n",
       "    <tr>\n",
       "      <th>23</th>\n",
       "      <td>Item_Type_Starchy Foods</td>\n",
       "      <td>1.229563e+14</td>\n",
       "    </tr>\n",
       "    <tr>\n",
       "      <th>24</th>\n",
       "      <td>Outlet_Establishment_Year_1985</td>\n",
       "      <td>8.093440e+13</td>\n",
       "    </tr>\n",
       "    <tr>\n",
       "      <th>25</th>\n",
       "      <td>Outlet_Establishment_Year_1987</td>\n",
       "      <td>1.556800e+14</td>\n",
       "    </tr>\n",
       "    <tr>\n",
       "      <th>26</th>\n",
       "      <td>Outlet_Establishment_Year_1997</td>\n",
       "      <td>-2.424733e+14</td>\n",
       "    </tr>\n",
       "    <tr>\n",
       "      <th>27</th>\n",
       "      <td>Outlet_Establishment_Year_1998</td>\n",
       "      <td>5.089347e+14</td>\n",
       "    </tr>\n",
       "    <tr>\n",
       "      <th>28</th>\n",
       "      <td>Outlet_Establishment_Year_1999</td>\n",
       "      <td>1.692913e+14</td>\n",
       "    </tr>\n",
       "    <tr>\n",
       "      <th>29</th>\n",
       "      <td>Outlet_Establishment_Year_2002</td>\n",
       "      <td>6.267368e+13</td>\n",
       "    </tr>\n",
       "    <tr>\n",
       "      <th>30</th>\n",
       "      <td>Outlet_Establishment_Year_2004</td>\n",
       "      <td>-5.762568e+13</td>\n",
       "    </tr>\n",
       "    <tr>\n",
       "      <th>31</th>\n",
       "      <td>Outlet_Establishment_Year_2007</td>\n",
       "      <td>6.267368e+13</td>\n",
       "    </tr>\n",
       "    <tr>\n",
       "      <th>32</th>\n",
       "      <td>Outlet_Establishment_Year_2009</td>\n",
       "      <td>1.293266e+14</td>\n",
       "    </tr>\n",
       "    <tr>\n",
       "      <th>33</th>\n",
       "      <td>Outlet_Size_High</td>\n",
       "      <td>2.984703e+13</td>\n",
       "    </tr>\n",
       "    <tr>\n",
       "      <th>34</th>\n",
       "      <td>Outlet_Size_Medium</td>\n",
       "      <td>-2.914652e+14</td>\n",
       "    </tr>\n",
       "    <tr>\n",
       "      <th>35</th>\n",
       "      <td>Outlet_Size_Small</td>\n",
       "      <td>1.202994e+14</td>\n",
       "    </tr>\n",
       "    <tr>\n",
       "      <th>36</th>\n",
       "      <td>Outlet_Location_Type_Tier 1</td>\n",
       "      <td>7.308696e+13</td>\n",
       "    </tr>\n",
       "    <tr>\n",
       "      <th>37</th>\n",
       "      <td>Outlet_Location_Type_Tier 2</td>\n",
       "      <td>-1.117606e+14</td>\n",
       "    </tr>\n",
       "    <tr>\n",
       "      <th>38</th>\n",
       "      <td>Outlet_Location_Type_Tier 3</td>\n",
       "      <td>-2.346140e+14</td>\n",
       "    </tr>\n",
       "    <tr>\n",
       "      <th>39</th>\n",
       "      <td>Outlet_Type_Grocery Store</td>\n",
       "      <td>-5.311886e+14</td>\n",
       "    </tr>\n",
       "    <tr>\n",
       "      <th>40</th>\n",
       "      <td>Outlet_Type_Supermarket Type1</td>\n",
       "      <td>-2.077810e+14</td>\n",
       "    </tr>\n",
       "    <tr>\n",
       "      <th>41</th>\n",
       "      <td>Outlet_Type_Supermarket Type2</td>\n",
       "      <td>1.398846e+14</td>\n",
       "    </tr>\n",
       "    <tr>\n",
       "      <th>42</th>\n",
       "      <td>Outlet_Type_Supermarket Type3</td>\n",
       "      <td>1.882769e+14</td>\n",
       "    </tr>\n",
       "  </tbody>\n",
       "</table>\n",
       "</div>"
      ],
      "text/plain": [
       "                           Variable   coefficient\n",
       "0                       Item_Weight  1.842239e-01\n",
       "1                   Item_Visibility -3.857211e+02\n",
       "2                          Item_MRP  1.549777e+01\n",
       "3               Item_Fat_Content_LF  1.964271e+14\n",
       "4          Item_Fat_Content_Low Fat  1.964271e+14\n",
       "5          Item_Fat_Content_Regular  1.964271e+14\n",
       "6          Item_Fat_Content_low fat  1.964271e+14\n",
       "7              Item_Fat_Content_reg  1.964271e+14\n",
       "8            Item_Type_Baking Goods  1.229563e+14\n",
       "9                  Item_Type_Breads  1.229563e+14\n",
       "10              Item_Type_Breakfast  1.229563e+14\n",
       "11                 Item_Type_Canned  1.229563e+14\n",
       "12                  Item_Type_Dairy  1.229563e+14\n",
       "13           Item_Type_Frozen Foods  1.229563e+14\n",
       "14  Item_Type_Fruits and Vegetables  1.229563e+14\n",
       "15            Item_Type_Hard Drinks  1.229563e+14\n",
       "16     Item_Type_Health and Hygiene  1.229563e+14\n",
       "17              Item_Type_Household  1.229563e+14\n",
       "18                   Item_Type_Meat  1.229563e+14\n",
       "19                 Item_Type_Others  1.229563e+14\n",
       "20                Item_Type_Seafood  1.229563e+14\n",
       "21            Item_Type_Snack Foods  1.229563e+14\n",
       "22            Item_Type_Soft Drinks  1.229563e+14\n",
       "23          Item_Type_Starchy Foods  1.229563e+14\n",
       "24   Outlet_Establishment_Year_1985  8.093440e+13\n",
       "25   Outlet_Establishment_Year_1987  1.556800e+14\n",
       "26   Outlet_Establishment_Year_1997 -2.424733e+14\n",
       "27   Outlet_Establishment_Year_1998  5.089347e+14\n",
       "28   Outlet_Establishment_Year_1999  1.692913e+14\n",
       "29   Outlet_Establishment_Year_2002  6.267368e+13\n",
       "30   Outlet_Establishment_Year_2004 -5.762568e+13\n",
       "31   Outlet_Establishment_Year_2007  6.267368e+13\n",
       "32   Outlet_Establishment_Year_2009  1.293266e+14\n",
       "33                 Outlet_Size_High  2.984703e+13\n",
       "34               Outlet_Size_Medium -2.914652e+14\n",
       "35                Outlet_Size_Small  1.202994e+14\n",
       "36      Outlet_Location_Type_Tier 1  7.308696e+13\n",
       "37      Outlet_Location_Type_Tier 2 -1.117606e+14\n",
       "38      Outlet_Location_Type_Tier 3 -2.346140e+14\n",
       "39        Outlet_Type_Grocery Store -5.311886e+14\n",
       "40    Outlet_Type_Supermarket Type1 -2.077810e+14\n",
       "41    Outlet_Type_Supermarket Type2  1.398846e+14\n",
       "42    Outlet_Type_Supermarket Type3  1.882769e+14"
      ]
     },
     "execution_count": 27,
     "metadata": {},
     "output_type": "execute_result"
    }
   ],
   "source": [
    "Coefficients"
   ]
  },
  {
   "cell_type": "code",
   "execution_count": 28,
   "id": "7edcc23e",
   "metadata": {},
   "outputs": [],
   "source": [
    "#Choosing variables with the significance greater than 0 (Filtering Significant feature)\n",
    "sig_var = Coefficients[Coefficients.coefficient > 0]"
   ]
  },
  {
   "cell_type": "code",
   "execution_count": 29,
   "id": "2dbe7025",
   "metadata": {},
   "outputs": [
    {
     "data": {
      "text/html": [
       "<div>\n",
       "<style scoped>\n",
       "    .dataframe tbody tr th:only-of-type {\n",
       "        vertical-align: middle;\n",
       "    }\n",
       "\n",
       "    .dataframe tbody tr th {\n",
       "        vertical-align: top;\n",
       "    }\n",
       "\n",
       "    .dataframe thead th {\n",
       "        text-align: right;\n",
       "    }\n",
       "</style>\n",
       "<table border=\"1\" class=\"dataframe\">\n",
       "  <thead>\n",
       "    <tr style=\"text-align: right;\">\n",
       "      <th></th>\n",
       "      <th>Item_Weight</th>\n",
       "      <th>Item_MRP</th>\n",
       "      <th>Item_Fat_Content_LF</th>\n",
       "      <th>Item_Fat_Content_Low Fat</th>\n",
       "      <th>Item_Fat_Content_Regular</th>\n",
       "      <th>Item_Fat_Content_low fat</th>\n",
       "      <th>Item_Fat_Content_reg</th>\n",
       "      <th>Item_Type_Baking Goods</th>\n",
       "      <th>Item_Type_Breads</th>\n",
       "      <th>Item_Type_Breakfast</th>\n",
       "      <th>...</th>\n",
       "      <th>Outlet_Establishment_Year_1998</th>\n",
       "      <th>Outlet_Establishment_Year_1999</th>\n",
       "      <th>Outlet_Establishment_Year_2002</th>\n",
       "      <th>Outlet_Establishment_Year_2007</th>\n",
       "      <th>Outlet_Establishment_Year_2009</th>\n",
       "      <th>Outlet_Size_High</th>\n",
       "      <th>Outlet_Size_Small</th>\n",
       "      <th>Outlet_Location_Type_Tier 1</th>\n",
       "      <th>Outlet_Type_Supermarket Type2</th>\n",
       "      <th>Outlet_Type_Supermarket Type3</th>\n",
       "    </tr>\n",
       "  </thead>\n",
       "  <tbody>\n",
       "    <tr>\n",
       "      <th>0</th>\n",
       "      <td>9.30</td>\n",
       "      <td>249.8092</td>\n",
       "      <td>0</td>\n",
       "      <td>1</td>\n",
       "      <td>0</td>\n",
       "      <td>0</td>\n",
       "      <td>0</td>\n",
       "      <td>0</td>\n",
       "      <td>0</td>\n",
       "      <td>0</td>\n",
       "      <td>...</td>\n",
       "      <td>0</td>\n",
       "      <td>1</td>\n",
       "      <td>0</td>\n",
       "      <td>0</td>\n",
       "      <td>0</td>\n",
       "      <td>0</td>\n",
       "      <td>0</td>\n",
       "      <td>1</td>\n",
       "      <td>0</td>\n",
       "      <td>0</td>\n",
       "    </tr>\n",
       "    <tr>\n",
       "      <th>1</th>\n",
       "      <td>5.92</td>\n",
       "      <td>48.2692</td>\n",
       "      <td>0</td>\n",
       "      <td>0</td>\n",
       "      <td>1</td>\n",
       "      <td>0</td>\n",
       "      <td>0</td>\n",
       "      <td>0</td>\n",
       "      <td>0</td>\n",
       "      <td>0</td>\n",
       "      <td>...</td>\n",
       "      <td>0</td>\n",
       "      <td>0</td>\n",
       "      <td>0</td>\n",
       "      <td>0</td>\n",
       "      <td>1</td>\n",
       "      <td>0</td>\n",
       "      <td>0</td>\n",
       "      <td>0</td>\n",
       "      <td>1</td>\n",
       "      <td>0</td>\n",
       "    </tr>\n",
       "    <tr>\n",
       "      <th>2</th>\n",
       "      <td>17.50</td>\n",
       "      <td>141.6180</td>\n",
       "      <td>0</td>\n",
       "      <td>1</td>\n",
       "      <td>0</td>\n",
       "      <td>0</td>\n",
       "      <td>0</td>\n",
       "      <td>0</td>\n",
       "      <td>0</td>\n",
       "      <td>0</td>\n",
       "      <td>...</td>\n",
       "      <td>0</td>\n",
       "      <td>1</td>\n",
       "      <td>0</td>\n",
       "      <td>0</td>\n",
       "      <td>0</td>\n",
       "      <td>0</td>\n",
       "      <td>0</td>\n",
       "      <td>1</td>\n",
       "      <td>0</td>\n",
       "      <td>0</td>\n",
       "    </tr>\n",
       "    <tr>\n",
       "      <th>3</th>\n",
       "      <td>19.20</td>\n",
       "      <td>182.0950</td>\n",
       "      <td>0</td>\n",
       "      <td>0</td>\n",
       "      <td>1</td>\n",
       "      <td>0</td>\n",
       "      <td>0</td>\n",
       "      <td>0</td>\n",
       "      <td>0</td>\n",
       "      <td>0</td>\n",
       "      <td>...</td>\n",
       "      <td>1</td>\n",
       "      <td>0</td>\n",
       "      <td>0</td>\n",
       "      <td>0</td>\n",
       "      <td>0</td>\n",
       "      <td>0</td>\n",
       "      <td>0</td>\n",
       "      <td>0</td>\n",
       "      <td>0</td>\n",
       "      <td>0</td>\n",
       "    </tr>\n",
       "    <tr>\n",
       "      <th>4</th>\n",
       "      <td>8.93</td>\n",
       "      <td>53.8614</td>\n",
       "      <td>0</td>\n",
       "      <td>1</td>\n",
       "      <td>0</td>\n",
       "      <td>0</td>\n",
       "      <td>0</td>\n",
       "      <td>0</td>\n",
       "      <td>0</td>\n",
       "      <td>0</td>\n",
       "      <td>...</td>\n",
       "      <td>0</td>\n",
       "      <td>0</td>\n",
       "      <td>0</td>\n",
       "      <td>0</td>\n",
       "      <td>0</td>\n",
       "      <td>1</td>\n",
       "      <td>0</td>\n",
       "      <td>0</td>\n",
       "      <td>0</td>\n",
       "      <td>0</td>\n",
       "    </tr>\n",
       "  </tbody>\n",
       "</table>\n",
       "<p>5 rows × 35 columns</p>\n",
       "</div>"
      ],
      "text/plain": [
       "   Item_Weight  Item_MRP  Item_Fat_Content_LF  Item_Fat_Content_Low Fat  \\\n",
       "0         9.30  249.8092                    0                         1   \n",
       "1         5.92   48.2692                    0                         0   \n",
       "2        17.50  141.6180                    0                         1   \n",
       "3        19.20  182.0950                    0                         0   \n",
       "4         8.93   53.8614                    0                         1   \n",
       "\n",
       "   Item_Fat_Content_Regular  Item_Fat_Content_low fat  Item_Fat_Content_reg  \\\n",
       "0                         0                         0                     0   \n",
       "1                         1                         0                     0   \n",
       "2                         0                         0                     0   \n",
       "3                         1                         0                     0   \n",
       "4                         0                         0                     0   \n",
       "\n",
       "   Item_Type_Baking Goods  Item_Type_Breads  Item_Type_Breakfast  ...  \\\n",
       "0                       0                 0                    0  ...   \n",
       "1                       0                 0                    0  ...   \n",
       "2                       0                 0                    0  ...   \n",
       "3                       0                 0                    0  ...   \n",
       "4                       0                 0                    0  ...   \n",
       "\n",
       "   Outlet_Establishment_Year_1998  Outlet_Establishment_Year_1999  \\\n",
       "0                               0                               1   \n",
       "1                               0                               0   \n",
       "2                               0                               1   \n",
       "3                               1                               0   \n",
       "4                               0                               0   \n",
       "\n",
       "   Outlet_Establishment_Year_2002  Outlet_Establishment_Year_2007  \\\n",
       "0                               0                               0   \n",
       "1                               0                               0   \n",
       "2                               0                               0   \n",
       "3                               0                               0   \n",
       "4                               0                               0   \n",
       "\n",
       "   Outlet_Establishment_Year_2009  Outlet_Size_High  Outlet_Size_Small  \\\n",
       "0                               0                 0                  0   \n",
       "1                               1                 0                  0   \n",
       "2                               0                 0                  0   \n",
       "3                               0                 0                  0   \n",
       "4                               0                 1                  0   \n",
       "\n",
       "   Outlet_Location_Type_Tier 1  Outlet_Type_Supermarket Type2  \\\n",
       "0                            1                              0   \n",
       "1                            0                              1   \n",
       "2                            1                              0   \n",
       "3                            0                              0   \n",
       "4                            0                              0   \n",
       "\n",
       "   Outlet_Type_Supermarket Type3  \n",
       "0                              0  \n",
       "1                              0  \n",
       "2                              0  \n",
       "3                              0  \n",
       "4                              0  \n",
       "\n",
       "[5 rows x 35 columns]"
      ]
     },
     "execution_count": 29,
     "metadata": {},
     "output_type": "execute_result"
    }
   ],
   "source": [
    "#Extracting the significant subset do implement variables\n",
    "subset = data[sig_var['Variable'].values]\n",
    "subset.head()"
   ]
  },
  {
   "cell_type": "code",
   "execution_count": 30,
   "id": "cb691e1a",
   "metadata": {},
   "outputs": [],
   "source": [
    "from sklearn.model_selection import train_test_split\n",
    "train_x,test_x,train_y,test_y = train_test_split(subset,y,random_state = 56)"
   ]
  },
  {
   "cell_type": "markdown",
   "id": "4cdb6d90",
   "metadata": {},
   "source": [
    "Implementing Final Linear Regression"
   ]
  },
  {
   "cell_type": "code",
   "execution_count": 31,
   "id": "9775f53c",
   "metadata": {},
   "outputs": [
    {
     "data": {
      "text/plain": [
       "LinearRegression(normalize=True)"
      ]
     },
     "execution_count": 31,
     "metadata": {},
     "output_type": "execute_result"
    }
   ],
   "source": [
    "#Creating instance of Linear Regression with Normalized Data\n",
    "lr = LR(normalize = True)\n",
    "\n",
    "#Fitting the data\n",
    "lr.fit(train_x, train_y)"
   ]
  },
  {
   "cell_type": "code",
   "execution_count": 32,
   "id": "f881237b",
   "metadata": {},
   "outputs": [
    {
     "name": "stdout",
     "output_type": "stream",
     "text": [
      "Training mean error 821.5101056320401\n"
     ]
    }
   ],
   "source": [
    "#Predicting over the train set and Calculating the error\n",
    "train_predict = lr.predict(train_x)\n",
    "lintrain = mae(train_predict, train_y)\n",
    "print('Training mean error',lintrain)"
   ]
  },
  {
   "cell_type": "code",
   "execution_count": 33,
   "id": "983b5043",
   "metadata": {},
   "outputs": [
    {
     "name": "stdout",
     "output_type": "stream",
     "text": [
      "Training mean error 875.0689077428437\n"
     ]
    }
   ],
   "source": [
    "#Predicting over the test set and Calculating the error (mae)\n",
    "test_predict = lr.predict(test_x)\n",
    "lintest = mae(test_predict, test_y)\n",
    "print('Training mean error',lintest)"
   ]
  },
  {
   "cell_type": "code",
   "execution_count": 34,
   "id": "582b3b48",
   "metadata": {},
   "outputs": [
    {
     "data": {
      "text/plain": [
       "Text(0.5, 1.0, 'Normalized Coefficient plot')"
      ]
     },
     "execution_count": 34,
     "metadata": {},
     "output_type": "execute_result"
    },
    {
     "data": {
      "image/png": "[encoded data removed]",
      "text/plain": [
       "<Figure size 960x720 with 1 Axes>"
      ]
     },
     "metadata": {},
     "output_type": "display_data"
    }
   ],
   "source": [
    "#Plotting the coefficients\n",
    "plt.figure(figsize=(8, 6), dpi=120, facecolor='w', edgecolor='b') \n",
    "x = range(len(train_x.columns)) \n",
    "y = lr.coef_ \n",
    "plt.bar( x, y ) \n",
    "plt.xlabel( \"Variables\") \n",
    "plt.ylabel('Coefficients') \n",
    "plt.title('Normalized Coefficient plot')"
   ]
  },
  {
   "cell_type": "code",
   "execution_count": 35,
   "id": "d2482dbc",
   "metadata": {},
   "outputs": [
    {
     "data": {
      "text/plain": [
       "(array([ 933., 2520., 3033., 3049., 1438., 2455.,   43., 3696., 2825.,\n",
       "        4209.]),\n",
       " 0.5406450349673279)"
      ]
     },
     "execution_count": 35,
     "metadata": {},
     "output_type": "execute_result"
    }
   ],
   "source": [
    "test_predict = lr.predict(test_x)\n",
    "test_predict[:10], lr.fit(train_x, train_y).score(test_x, test_y)"
   ]
  },
  {
   "cell_type": "code",
   "execution_count": null,
   "id": "adf33bb5",
   "metadata": {},
   "outputs": [],
   "source": []
  },
  {
   "cell_type": "code",
   "execution_count": null,
   "id": "f936d06f",
   "metadata": {},
   "outputs": [],
   "source": []
  },
  {
   "cell_type": "code",
   "execution_count": null,
   "id": "581881c1",
   "metadata": {},
   "outputs": [],
   "source": []
  },
  {
   "cell_type": "code",
   "execution_count": null,
   "id": "1cad5407",
   "metadata": {},
   "outputs": [],
   "source": []
  },
  {
   "cell_type": "code",
   "execution_count": null,
   "id": "cf6defdd",
   "metadata": {},
   "outputs": [],
   "source": []
  },
  {
   "cell_type": "code",
   "execution_count": null,
   "id": "9443790d",
   "metadata": {},
   "outputs": [],
   "source": []
  },
  {
   "cell_type": "code",
   "execution_count": null,
   "id": "9335cbb9",
   "metadata": {},
   "outputs": [],
   "source": []
  }
 ],
 "metadata": {
  "kernelspec": {
   "display_name": "Python 3 (ipykernel)",
   "language": "python",
   "name": "python3"
  },
  "language_info": {
   "codemirror_mode": {
    "name": "ipython",
    "version": 3
   },
   "file_extension": ".py",
   "mimetype": "text/x-python",
   "name": "python",
   "nbconvert_exporter": "python",
   "pygments_lexer": "ipython3",
   "version": "3.9.7"
  }
 },
 "nbformat": 4,
 "nbformat_minor": 5
}
